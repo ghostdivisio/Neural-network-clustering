{
  "nbformat": 4,
  "nbformat_minor": 0,
  "metadata": {
    "colab": {
      "provenance": []
    },
    "kernelspec": {
      "name": "python3",
      "display_name": "Python 3"
    },
    "language_info": {
      "name": "python"
    }
  },
  "cells": [
    {
      "cell_type": "code",
      "execution_count": 1,
      "metadata": {
        "colab": {
          "base_uri": "https://localhost:8080/"
        },
        "id": "2n3ErHSfdLw_",
        "outputId": "bc560d41-c09a-4abf-f62b-94290c4d29f4"
      },
      "outputs": [
        {
          "output_type": "stream",
          "name": "stdout",
          "text": [
            "Looking in indexes: https://pypi.org/simple, https://us-python.pkg.dev/colab-wheels/public/simple/\n",
            "Collecting umap-learn\n",
            "  Downloading umap-learn-0.5.3.tar.gz (88 kB)\n",
            "\u001b[2K     \u001b[90m━━━━━━━━━━━━━━━━━━━━━━━━━━━━━━━━━━━━━━━━\u001b[0m \u001b[32m88.2/88.2 KB\u001b[0m \u001b[31m1.5 MB/s\u001b[0m eta \u001b[36m0:00:00\u001b[0m\n",
            "\u001b[?25h  Preparing metadata (setup.py) ... \u001b[?25l\u001b[?25hdone\n",
            "Requirement already satisfied: numpy>=1.17 in /usr/local/lib/python3.8/dist-packages (from umap-learn) (1.22.4)\n",
            "Requirement already satisfied: scikit-learn>=0.22 in /usr/local/lib/python3.8/dist-packages (from umap-learn) (1.2.1)\n",
            "Requirement already satisfied: scipy>=1.0 in /usr/local/lib/python3.8/dist-packages (from umap-learn) (1.10.1)\n",
            "Requirement already satisfied: numba>=0.49 in /usr/local/lib/python3.8/dist-packages (from umap-learn) (0.56.4)\n",
            "Collecting pynndescent>=0.5\n",
            "  Downloading pynndescent-0.5.8.tar.gz (1.1 MB)\n",
            "\u001b[2K     \u001b[90m━━━━━━━━━━━━━━━━━━━━━━━━━━━━━━━━━━━━━━━━\u001b[0m \u001b[32m1.1/1.1 MB\u001b[0m \u001b[31m14.8 MB/s\u001b[0m eta \u001b[36m0:00:00\u001b[0m\n",
            "\u001b[?25h  Preparing metadata (setup.py) ... \u001b[?25l\u001b[?25hdone\n",
            "Requirement already satisfied: tqdm in /usr/local/lib/python3.8/dist-packages (from umap-learn) (4.64.1)\n",
            "Requirement already satisfied: importlib-metadata in /usr/local/lib/python3.8/dist-packages (from numba>=0.49->umap-learn) (6.0.0)\n",
            "Requirement already satisfied: setuptools in /usr/local/lib/python3.8/dist-packages (from numba>=0.49->umap-learn) (57.4.0)\n",
            "Requirement already satisfied: llvmlite<0.40,>=0.39.0dev0 in /usr/local/lib/python3.8/dist-packages (from numba>=0.49->umap-learn) (0.39.1)\n",
            "Requirement already satisfied: joblib>=0.11 in /usr/local/lib/python3.8/dist-packages (from pynndescent>=0.5->umap-learn) (1.2.0)\n",
            "Requirement already satisfied: threadpoolctl>=2.0.0 in /usr/local/lib/python3.8/dist-packages (from scikit-learn>=0.22->umap-learn) (3.1.0)\n",
            "Requirement already satisfied: zipp>=0.5 in /usr/local/lib/python3.8/dist-packages (from importlib-metadata->numba>=0.49->umap-learn) (3.15.0)\n",
            "Building wheels for collected packages: umap-learn, pynndescent\n",
            "  Building wheel for umap-learn (setup.py) ... \u001b[?25l\u001b[?25hdone\n",
            "  Created wheel for umap-learn: filename=umap_learn-0.5.3-py3-none-any.whl size=82829 sha256=ba4791e48a9806963092e11dccf270d05e570b1a6038e3158221b4d83a8e2033\n",
            "  Stored in directory: /root/.cache/pip/wheels/a9/3a/67/06a8950e053725912e6a8c42c4a3a241410f6487b8402542ea\n",
            "  Building wheel for pynndescent (setup.py) ... \u001b[?25l\u001b[?25hdone\n",
            "  Created wheel for pynndescent: filename=pynndescent-0.5.8-py3-none-any.whl size=55513 sha256=54d9c9076a23598a270419c9e19c16d10bd16bacc1c9d8e42502336638e7eda7\n",
            "  Stored in directory: /root/.cache/pip/wheels/1c/63/3a/29954bca1a27ba100ed8c27973a78cb71b43dc67aed62e80c3\n",
            "Successfully built umap-learn pynndescent\n",
            "Installing collected packages: pynndescent, umap-learn\n",
            "Successfully installed pynndescent-0.5.8 umap-learn-0.5.3\n"
          ]
        }
      ],
      "source": [
        "pip install umap-learn"
      ]
    },
    {
      "cell_type": "code",
      "source": [
        "import umap\n",
        "import numpy as np\n",
        "from sklearn.datasets import load_digits\n",
        "from sklearn.model_selection import train_test_split\n",
        "from sklearn.preprocessing import StandardScaler\n",
        "import matplotlib.pyplot as plt\n",
        "import seaborn as sns\n",
        "import pandas as pd\n",
        "%matplotlib inline"
      ],
      "metadata": {
        "id": "XRjvNZQxdgji"
      },
      "execution_count": 2,
      "outputs": []
    },
    {
      "cell_type": "code",
      "source": [
        "reducer = umap.UMAP()"
      ],
      "metadata": {
        "id": "LfKLh3uFdjar"
      },
      "execution_count": 3,
      "outputs": []
    },
    {
      "cell_type": "code",
      "source": [
        "deer=pd.read_csv('deers_geom.csv')\n",
        "deer=deer.fillna(0)\n"
      ],
      "metadata": {
        "id": "2axW3vkzeUUL"
      },
      "execution_count": 4,
      "outputs": []
    },
    {
      "cell_type": "code",
      "source": [
        "deer"
      ],
      "metadata": {
        "colab": {
          "base_uri": "https://localhost:8080/",
          "height": 423
        },
        "id": "TsYKQ1x3LO-d",
        "outputId": "9252b2e3-e507-409b-a7df-64e8079f7e2e"
      },
      "execution_count": 18,
      "outputs": [
        {
          "output_type": "execute_result",
          "data": {
            "text/plain": [
              "     filename     Ax     Ay      Bx     By      Cx     Cy     Dx     Dy  \\\n",
              "0           1   32.0  488.0   892.0  587.0   878.0  928.0  409.0  874.0   \n",
              "1           2   64.0  239.0  1202.0  462.0  1091.0  622.0  613.0  580.0   \n",
              "2           3   36.0  396.0   942.0  281.0   910.0  430.0  433.0  444.0   \n",
              "3           4  280.0  379.0  1386.0  442.0  1239.0  680.0  712.0  614.0   \n",
              "4           5  278.0  777.0  1176.0  652.0  1195.0  905.0  612.0  870.0   \n",
              "..        ...    ...    ...     ...    ...     ...    ...    ...    ...   \n",
              "151       152  825.0  421.0   210.0  179.0   201.0  372.0  589.0  485.0   \n",
              "152       153  305.0  413.0   918.0  701.0   901.0  756.0  573.0  608.0   \n",
              "153       154  456.0  365.0   234.0  107.0   171.0  227.0  310.0  335.0   \n",
              "154       155  198.0  112.0   519.0  284.0   472.0  358.0  313.0  243.0   \n",
              "155       156  355.0  244.0   108.0   40.0    74.0  160.0  213.0  209.0   \n",
              "\n",
              "        Ex  ...     Kx     Ky     Nx     Ny     xx      xy      yx      yy  \\\n",
              "0    316.0  ...   90.0   50.0  361.0  416.0  418.0  1021.0   894.0  1134.0   \n",
              "1    494.0  ...  241.0   55.0  300.0  180.0  501.0   535.0  1108.0   762.0   \n",
              "2    322.0  ...   33.0  140.0  299.0  275.0  407.0   627.0   967.0   596.0   \n",
              "3    679.0  ...   39.0   79.0  607.0  341.0  619.0   767.0  1235.0   825.0   \n",
              "4    561.0  ...   61.0   99.0  501.0  661.0  547.0   973.0  1195.0  1080.0   \n",
              "..     ...  ...    ...    ...    ...    ...    ...     ...     ...     ...   \n",
              "151  635.0  ...  982.0  211.0  738.0  290.0  588.0   577.0   176.0   420.0   \n",
              "152  553.0  ...  249.0  110.0  448.0  439.0  544.0   649.0   868.0   830.0   \n",
              "153  390.0  ...  503.0  312.0  405.0  268.0  301.0   356.0   162.0   270.0   \n",
              "154  320.0  ...  222.0   23.0  274.0  113.0  288.0   281.0   438.0   407.0   \n",
              "155  268.0  ...  398.0  128.0  335.0  145.0  179.0   249.0    71.0   187.0   \n",
              "\n",
              "        Wx     Wy  \n",
              "0      0.0    0.0  \n",
              "1      0.0    0.0  \n",
              "2      0.0    0.0  \n",
              "3      0.0    0.0  \n",
              "4      0.0    0.0  \n",
              "..     ...    ...  \n",
              "151    0.0    0.0  \n",
              "152    0.0    0.0  \n",
              "153    0.0    0.0  \n",
              "154  537.0  290.0  \n",
              "155    0.0    0.0  \n",
              "\n",
              "[156 rows x 29 columns]"
            ],
            "text/html": [
              "\n",
              "  <div id=\"df-86558cfd-f20f-4c50-98fb-52757bac488c\">\n",
              "    <div class=\"colab-df-container\">\n",
              "      <div>\n",
              "<style scoped>\n",
              "    .dataframe tbody tr th:only-of-type {\n",
              "        vertical-align: middle;\n",
              "    }\n",
              "\n",
              "    .dataframe tbody tr th {\n",
              "        vertical-align: top;\n",
              "    }\n",
              "\n",
              "    .dataframe thead th {\n",
              "        text-align: right;\n",
              "    }\n",
              "</style>\n",
              "<table border=\"1\" class=\"dataframe\">\n",
              "  <thead>\n",
              "    <tr style=\"text-align: right;\">\n",
              "      <th></th>\n",
              "      <th>filename</th>\n",
              "      <th>Ax</th>\n",
              "      <th>Ay</th>\n",
              "      <th>Bx</th>\n",
              "      <th>By</th>\n",
              "      <th>Cx</th>\n",
              "      <th>Cy</th>\n",
              "      <th>Dx</th>\n",
              "      <th>Dy</th>\n",
              "      <th>Ex</th>\n",
              "      <th>...</th>\n",
              "      <th>Kx</th>\n",
              "      <th>Ky</th>\n",
              "      <th>Nx</th>\n",
              "      <th>Ny</th>\n",
              "      <th>xx</th>\n",
              "      <th>xy</th>\n",
              "      <th>yx</th>\n",
              "      <th>yy</th>\n",
              "      <th>Wx</th>\n",
              "      <th>Wy</th>\n",
              "    </tr>\n",
              "  </thead>\n",
              "  <tbody>\n",
              "    <tr>\n",
              "      <th>0</th>\n",
              "      <td>1</td>\n",
              "      <td>32.0</td>\n",
              "      <td>488.0</td>\n",
              "      <td>892.0</td>\n",
              "      <td>587.0</td>\n",
              "      <td>878.0</td>\n",
              "      <td>928.0</td>\n",
              "      <td>409.0</td>\n",
              "      <td>874.0</td>\n",
              "      <td>316.0</td>\n",
              "      <td>...</td>\n",
              "      <td>90.0</td>\n",
              "      <td>50.0</td>\n",
              "      <td>361.0</td>\n",
              "      <td>416.0</td>\n",
              "      <td>418.0</td>\n",
              "      <td>1021.0</td>\n",
              "      <td>894.0</td>\n",
              "      <td>1134.0</td>\n",
              "      <td>0.0</td>\n",
              "      <td>0.0</td>\n",
              "    </tr>\n",
              "    <tr>\n",
              "      <th>1</th>\n",
              "      <td>2</td>\n",
              "      <td>64.0</td>\n",
              "      <td>239.0</td>\n",
              "      <td>1202.0</td>\n",
              "      <td>462.0</td>\n",
              "      <td>1091.0</td>\n",
              "      <td>622.0</td>\n",
              "      <td>613.0</td>\n",
              "      <td>580.0</td>\n",
              "      <td>494.0</td>\n",
              "      <td>...</td>\n",
              "      <td>241.0</td>\n",
              "      <td>55.0</td>\n",
              "      <td>300.0</td>\n",
              "      <td>180.0</td>\n",
              "      <td>501.0</td>\n",
              "      <td>535.0</td>\n",
              "      <td>1108.0</td>\n",
              "      <td>762.0</td>\n",
              "      <td>0.0</td>\n",
              "      <td>0.0</td>\n",
              "    </tr>\n",
              "    <tr>\n",
              "      <th>2</th>\n",
              "      <td>3</td>\n",
              "      <td>36.0</td>\n",
              "      <td>396.0</td>\n",
              "      <td>942.0</td>\n",
              "      <td>281.0</td>\n",
              "      <td>910.0</td>\n",
              "      <td>430.0</td>\n",
              "      <td>433.0</td>\n",
              "      <td>444.0</td>\n",
              "      <td>322.0</td>\n",
              "      <td>...</td>\n",
              "      <td>33.0</td>\n",
              "      <td>140.0</td>\n",
              "      <td>299.0</td>\n",
              "      <td>275.0</td>\n",
              "      <td>407.0</td>\n",
              "      <td>627.0</td>\n",
              "      <td>967.0</td>\n",
              "      <td>596.0</td>\n",
              "      <td>0.0</td>\n",
              "      <td>0.0</td>\n",
              "    </tr>\n",
              "    <tr>\n",
              "      <th>3</th>\n",
              "      <td>4</td>\n",
              "      <td>280.0</td>\n",
              "      <td>379.0</td>\n",
              "      <td>1386.0</td>\n",
              "      <td>442.0</td>\n",
              "      <td>1239.0</td>\n",
              "      <td>680.0</td>\n",
              "      <td>712.0</td>\n",
              "      <td>614.0</td>\n",
              "      <td>679.0</td>\n",
              "      <td>...</td>\n",
              "      <td>39.0</td>\n",
              "      <td>79.0</td>\n",
              "      <td>607.0</td>\n",
              "      <td>341.0</td>\n",
              "      <td>619.0</td>\n",
              "      <td>767.0</td>\n",
              "      <td>1235.0</td>\n",
              "      <td>825.0</td>\n",
              "      <td>0.0</td>\n",
              "      <td>0.0</td>\n",
              "    </tr>\n",
              "    <tr>\n",
              "      <th>4</th>\n",
              "      <td>5</td>\n",
              "      <td>278.0</td>\n",
              "      <td>777.0</td>\n",
              "      <td>1176.0</td>\n",
              "      <td>652.0</td>\n",
              "      <td>1195.0</td>\n",
              "      <td>905.0</td>\n",
              "      <td>612.0</td>\n",
              "      <td>870.0</td>\n",
              "      <td>561.0</td>\n",
              "      <td>...</td>\n",
              "      <td>61.0</td>\n",
              "      <td>99.0</td>\n",
              "      <td>501.0</td>\n",
              "      <td>661.0</td>\n",
              "      <td>547.0</td>\n",
              "      <td>973.0</td>\n",
              "      <td>1195.0</td>\n",
              "      <td>1080.0</td>\n",
              "      <td>0.0</td>\n",
              "      <td>0.0</td>\n",
              "    </tr>\n",
              "    <tr>\n",
              "      <th>...</th>\n",
              "      <td>...</td>\n",
              "      <td>...</td>\n",
              "      <td>...</td>\n",
              "      <td>...</td>\n",
              "      <td>...</td>\n",
              "      <td>...</td>\n",
              "      <td>...</td>\n",
              "      <td>...</td>\n",
              "      <td>...</td>\n",
              "      <td>...</td>\n",
              "      <td>...</td>\n",
              "      <td>...</td>\n",
              "      <td>...</td>\n",
              "      <td>...</td>\n",
              "      <td>...</td>\n",
              "      <td>...</td>\n",
              "      <td>...</td>\n",
              "      <td>...</td>\n",
              "      <td>...</td>\n",
              "      <td>...</td>\n",
              "      <td>...</td>\n",
              "    </tr>\n",
              "    <tr>\n",
              "      <th>151</th>\n",
              "      <td>152</td>\n",
              "      <td>825.0</td>\n",
              "      <td>421.0</td>\n",
              "      <td>210.0</td>\n",
              "      <td>179.0</td>\n",
              "      <td>201.0</td>\n",
              "      <td>372.0</td>\n",
              "      <td>589.0</td>\n",
              "      <td>485.0</td>\n",
              "      <td>635.0</td>\n",
              "      <td>...</td>\n",
              "      <td>982.0</td>\n",
              "      <td>211.0</td>\n",
              "      <td>738.0</td>\n",
              "      <td>290.0</td>\n",
              "      <td>588.0</td>\n",
              "      <td>577.0</td>\n",
              "      <td>176.0</td>\n",
              "      <td>420.0</td>\n",
              "      <td>0.0</td>\n",
              "      <td>0.0</td>\n",
              "    </tr>\n",
              "    <tr>\n",
              "      <th>152</th>\n",
              "      <td>153</td>\n",
              "      <td>305.0</td>\n",
              "      <td>413.0</td>\n",
              "      <td>918.0</td>\n",
              "      <td>701.0</td>\n",
              "      <td>901.0</td>\n",
              "      <td>756.0</td>\n",
              "      <td>573.0</td>\n",
              "      <td>608.0</td>\n",
              "      <td>553.0</td>\n",
              "      <td>...</td>\n",
              "      <td>249.0</td>\n",
              "      <td>110.0</td>\n",
              "      <td>448.0</td>\n",
              "      <td>439.0</td>\n",
              "      <td>544.0</td>\n",
              "      <td>649.0</td>\n",
              "      <td>868.0</td>\n",
              "      <td>830.0</td>\n",
              "      <td>0.0</td>\n",
              "      <td>0.0</td>\n",
              "    </tr>\n",
              "    <tr>\n",
              "      <th>153</th>\n",
              "      <td>154</td>\n",
              "      <td>456.0</td>\n",
              "      <td>365.0</td>\n",
              "      <td>234.0</td>\n",
              "      <td>107.0</td>\n",
              "      <td>171.0</td>\n",
              "      <td>227.0</td>\n",
              "      <td>310.0</td>\n",
              "      <td>335.0</td>\n",
              "      <td>390.0</td>\n",
              "      <td>...</td>\n",
              "      <td>503.0</td>\n",
              "      <td>312.0</td>\n",
              "      <td>405.0</td>\n",
              "      <td>268.0</td>\n",
              "      <td>301.0</td>\n",
              "      <td>356.0</td>\n",
              "      <td>162.0</td>\n",
              "      <td>270.0</td>\n",
              "      <td>0.0</td>\n",
              "      <td>0.0</td>\n",
              "    </tr>\n",
              "    <tr>\n",
              "      <th>154</th>\n",
              "      <td>155</td>\n",
              "      <td>198.0</td>\n",
              "      <td>112.0</td>\n",
              "      <td>519.0</td>\n",
              "      <td>284.0</td>\n",
              "      <td>472.0</td>\n",
              "      <td>358.0</td>\n",
              "      <td>313.0</td>\n",
              "      <td>243.0</td>\n",
              "      <td>320.0</td>\n",
              "      <td>...</td>\n",
              "      <td>222.0</td>\n",
              "      <td>23.0</td>\n",
              "      <td>274.0</td>\n",
              "      <td>113.0</td>\n",
              "      <td>288.0</td>\n",
              "      <td>281.0</td>\n",
              "      <td>438.0</td>\n",
              "      <td>407.0</td>\n",
              "      <td>537.0</td>\n",
              "      <td>290.0</td>\n",
              "    </tr>\n",
              "    <tr>\n",
              "      <th>155</th>\n",
              "      <td>156</td>\n",
              "      <td>355.0</td>\n",
              "      <td>244.0</td>\n",
              "      <td>108.0</td>\n",
              "      <td>40.0</td>\n",
              "      <td>74.0</td>\n",
              "      <td>160.0</td>\n",
              "      <td>213.0</td>\n",
              "      <td>209.0</td>\n",
              "      <td>268.0</td>\n",
              "      <td>...</td>\n",
              "      <td>398.0</td>\n",
              "      <td>128.0</td>\n",
              "      <td>335.0</td>\n",
              "      <td>145.0</td>\n",
              "      <td>179.0</td>\n",
              "      <td>249.0</td>\n",
              "      <td>71.0</td>\n",
              "      <td>187.0</td>\n",
              "      <td>0.0</td>\n",
              "      <td>0.0</td>\n",
              "    </tr>\n",
              "  </tbody>\n",
              "</table>\n",
              "<p>156 rows × 29 columns</p>\n",
              "</div>\n",
              "      <button class=\"colab-df-convert\" onclick=\"convertToInteractive('df-86558cfd-f20f-4c50-98fb-52757bac488c')\"\n",
              "              title=\"Convert this dataframe to an interactive table.\"\n",
              "              style=\"display:none;\">\n",
              "        \n",
              "  <svg xmlns=\"http://www.w3.org/2000/svg\" height=\"24px\"viewBox=\"0 0 24 24\"\n",
              "       width=\"24px\">\n",
              "    <path d=\"M0 0h24v24H0V0z\" fill=\"none\"/>\n",
              "    <path d=\"M18.56 5.44l.94 2.06.94-2.06 2.06-.94-2.06-.94-.94-2.06-.94 2.06-2.06.94zm-11 1L8.5 8.5l.94-2.06 2.06-.94-2.06-.94L8.5 2.5l-.94 2.06-2.06.94zm10 10l.94 2.06.94-2.06 2.06-.94-2.06-.94-.94-2.06-.94 2.06-2.06.94z\"/><path d=\"M17.41 7.96l-1.37-1.37c-.4-.4-.92-.59-1.43-.59-.52 0-1.04.2-1.43.59L10.3 9.45l-7.72 7.72c-.78.78-.78 2.05 0 2.83L4 21.41c.39.39.9.59 1.41.59.51 0 1.02-.2 1.41-.59l7.78-7.78 2.81-2.81c.8-.78.8-2.07 0-2.86zM5.41 20L4 18.59l7.72-7.72 1.47 1.35L5.41 20z\"/>\n",
              "  </svg>\n",
              "      </button>\n",
              "      \n",
              "  <style>\n",
              "    .colab-df-container {\n",
              "      display:flex;\n",
              "      flex-wrap:wrap;\n",
              "      gap: 12px;\n",
              "    }\n",
              "\n",
              "    .colab-df-convert {\n",
              "      background-color: #E8F0FE;\n",
              "      border: none;\n",
              "      border-radius: 50%;\n",
              "      cursor: pointer;\n",
              "      display: none;\n",
              "      fill: #1967D2;\n",
              "      height: 32px;\n",
              "      padding: 0 0 0 0;\n",
              "      width: 32px;\n",
              "    }\n",
              "\n",
              "    .colab-df-convert:hover {\n",
              "      background-color: #E2EBFA;\n",
              "      box-shadow: 0px 1px 2px rgba(60, 64, 67, 0.3), 0px 1px 3px 1px rgba(60, 64, 67, 0.15);\n",
              "      fill: #174EA6;\n",
              "    }\n",
              "\n",
              "    [theme=dark] .colab-df-convert {\n",
              "      background-color: #3B4455;\n",
              "      fill: #D2E3FC;\n",
              "    }\n",
              "\n",
              "    [theme=dark] .colab-df-convert:hover {\n",
              "      background-color: #434B5C;\n",
              "      box-shadow: 0px 1px 3px 1px rgba(0, 0, 0, 0.15);\n",
              "      filter: drop-shadow(0px 1px 2px rgba(0, 0, 0, 0.3));\n",
              "      fill: #FFFFFF;\n",
              "    }\n",
              "  </style>\n",
              "\n",
              "      <script>\n",
              "        const buttonEl =\n",
              "          document.querySelector('#df-86558cfd-f20f-4c50-98fb-52757bac488c button.colab-df-convert');\n",
              "        buttonEl.style.display =\n",
              "          google.colab.kernel.accessAllowed ? 'block' : 'none';\n",
              "\n",
              "        async function convertToInteractive(key) {\n",
              "          const element = document.querySelector('#df-86558cfd-f20f-4c50-98fb-52757bac488c');\n",
              "          const dataTable =\n",
              "            await google.colab.kernel.invokeFunction('convertToInteractive',\n",
              "                                                     [key], {});\n",
              "          if (!dataTable) return;\n",
              "\n",
              "          const docLinkHtml = 'Like what you see? Visit the ' +\n",
              "            '<a target=\"_blank\" href=https://colab.research.google.com/notebooks/data_table.ipynb>data table notebook</a>'\n",
              "            + ' to learn more about interactive tables.';\n",
              "          element.innerHTML = '';\n",
              "          dataTable['output_type'] = 'display_data';\n",
              "          await google.colab.output.renderOutput(dataTable, element);\n",
              "          const docLink = document.createElement('div');\n",
              "          docLink.innerHTML = docLinkHtml;\n",
              "          element.appendChild(docLink);\n",
              "        }\n",
              "      </script>\n",
              "    </div>\n",
              "  </div>\n",
              "  "
            ]
          },
          "metadata": {},
          "execution_count": 18
        }
      ]
    },
    {
      "cell_type": "code",
      "source": [
        "deer.filename.value_counts()"
      ],
      "metadata": {
        "colab": {
          "base_uri": "https://localhost:8080/"
        },
        "id": "t-8SUhuXxfnQ",
        "outputId": "29081af8-7174-4710-f2c0-6c3e8714fc4b"
      },
      "execution_count": 5,
      "outputs": [
        {
          "output_type": "execute_result",
          "data": {
            "text/plain": [
              "1      1\n",
              "108    1\n",
              "101    1\n",
              "102    1\n",
              "103    1\n",
              "      ..\n",
              "53     1\n",
              "54     1\n",
              "55     1\n",
              "56     1\n",
              "156    1\n",
              "Name: filename, Length: 156, dtype: int64"
            ]
          },
          "metadata": {},
          "execution_count": 5
        }
      ]
    },
    {
      "cell_type": "code",
      "source": [
        "#sns.pairplot(deer.head(10), hue='filename');"
      ],
      "metadata": {
        "id": "ojAwC0bofTgj"
      },
      "execution_count": null,
      "outputs": []
    },
    {
      "cell_type": "code",
      "source": [
        "#НАЧАЛО!"
      ],
      "metadata": {
        "id": "I8ZRTK2yNDJR"
      },
      "execution_count": null,
      "outputs": []
    },
    {
      "cell_type": "code",
      "source": [
        "deer_data = deer[['Ax', 'Ay', 'Bx',\n",
        "           'By', 'Cx', 'Cy', 'Dx',\n",
        "           'Dy', 'Ex', 'Ey', 'Fx', \n",
        "           'Fy', 'Hx', 'Hy', 'Ix',\n",
        "           'Iy', 'Lx', 'Ly', 'Kx',\n",
        "           'Ky', 'Nx', 'Ny', 'xx', \n",
        "         'xy', 'yx', 'yy', 'Wx', 'Wy']\n",
        "].values\n",
        "#scaled_deer_data = StandardScaler().fit_transform(deer_data)"
      ],
      "metadata": {
        "id": "fUE8cS4CdRVE"
      },
      "execution_count": 6,
      "outputs": []
    },
    {
      "cell_type": "code",
      "source": [
        "scaled_deer_data = StandardScaler().fit_transform(deer_data)"
      ],
      "metadata": {
        "id": "pqMC-5NoU7VB"
      },
      "execution_count": null,
      "outputs": []
    },
    {
      "cell_type": "code",
      "source": [
        "embedding=reducer.fit_transform(scaled_deer_data)\n",
        "embedding.shape"
      ],
      "metadata": {
        "colab": {
          "base_uri": "https://localhost:8080/"
        },
        "id": "gpxisEYBm6iz",
        "outputId": "223a62d5-61ce-4141-8d00-4ab03c7eb260"
      },
      "execution_count": 7,
      "outputs": [
        {
          "output_type": "execute_result",
          "data": {
            "text/plain": [
              "(156, 2)"
            ]
          },
          "metadata": {},
          "execution_count": 7
        }
      ]
    },
    {
      "cell_type": "code",
      "source": [
        "embedding"
      ],
      "metadata": {
        "colab": {
          "base_uri": "https://localhost:8080/"
        },
        "id": "ZjsEWNap9BPH",
        "outputId": "ec29aa24-d769-4f8e-8cc0-4e1b2548d4f7"
      },
      "execution_count": 8,
      "outputs": [
        {
          "output_type": "execute_result",
          "data": {
            "text/plain": [
              "array([[ 6.07884645e-01,  4.14507008e+00],\n",
              "       [ 5.39118290e-01,  4.86592102e+00],\n",
              "       [ 9.48461533e-01,  5.17933607e+00],\n",
              "       [ 4.98352259e-01,  4.37142229e+00],\n",
              "       [ 3.58973145e-01,  3.74055052e+00],\n",
              "       [ 4.24514115e-01,  3.84602594e+00],\n",
              "       [ 1.57636344e+00,  6.18257856e+00],\n",
              "       [ 3.52179360e+00,  1.06728239e+01],\n",
              "       [ 3.51014543e+00,  9.26715279e+00],\n",
              "       [ 1.26607955e+00,  6.04780483e+00],\n",
              "       [ 5.64038515e+00,  1.24998379e+01],\n",
              "       [ 5.53345633e+00,  1.27783260e+01],\n",
              "       [ 5.60282803e+00,  1.26459370e+01],\n",
              "       [ 3.14056695e-01,  3.76758742e+00],\n",
              "       [-1.31581891e-02,  3.66256905e+00],\n",
              "       [ 4.60132092e-01,  4.04944754e+00],\n",
              "       [ 1.53727663e+00,  6.21480370e+00],\n",
              "       [ 5.77199697e-01,  4.53928232e+00],\n",
              "       [ 5.16370058e-01,  3.69035935e+00],\n",
              "       [ 5.29198647e+00,  1.11410723e+01],\n",
              "       [ 5.39587975e+00,  1.14620771e+01],\n",
              "       [ 3.68563890e-01,  4.62622356e+00],\n",
              "       [ 5.52529716e+00,  1.17961626e+01],\n",
              "       [ 5.32644176e+00,  1.14379959e+01],\n",
              "       [ 5.03033781e+00,  1.09230061e+01],\n",
              "       [ 5.55242109e+00,  1.33341637e+01],\n",
              "       [ 5.99463749e+00,  7.20462322e+00],\n",
              "       [ 2.11873516e-01,  3.50074577e+00],\n",
              "       [ 7.68238306e-01,  4.61029530e+00],\n",
              "       [ 1.19828844e+00,  5.72895288e+00],\n",
              "       [ 1.37059116e+00,  5.93365288e+00],\n",
              "       [ 8.20619106e-01,  5.24512959e+00],\n",
              "       [ 6.19875860e+00,  6.74485588e+00],\n",
              "       [ 4.35716105e+00,  9.82355022e+00],\n",
              "       [ 5.18116570e+00,  1.10604134e+01],\n",
              "       [ 5.41648483e+00,  6.63462925e+00],\n",
              "       [ 5.12618351e+00,  6.64002275e+00],\n",
              "       [ 5.51487017e+00,  7.40825796e+00],\n",
              "       [ 5.76198769e+00,  7.12719011e+00],\n",
              "       [ 5.16837215e+00,  7.41774464e+00],\n",
              "       [ 5.55391741e+00,  1.24518032e+01],\n",
              "       [ 3.66683388e+00,  7.80131960e+00],\n",
              "       [ 3.30170846e+00,  7.67604589e+00],\n",
              "       [ 7.10737109e-02,  3.82059860e+00],\n",
              "       [ 9.25699353e-01,  4.75782728e+00],\n",
              "       [ 5.80348492e+00,  1.28905869e+01],\n",
              "       [ 6.54342270e+00,  7.01617384e+00],\n",
              "       [ 6.59093761e+00,  6.86161757e+00],\n",
              "       [ 6.96730280e+00,  7.19020462e+00],\n",
              "       [ 5.43747473e+00,  1.19740744e+01],\n",
              "       [ 4.57165480e+00,  1.00907087e+01],\n",
              "       [ 3.35317135e+00,  4.22501230e+00],\n",
              "       [ 5.37250280e+00,  7.32596159e+00],\n",
              "       [ 6.87066650e+00,  7.12091017e+00],\n",
              "       [ 5.39201641e+00,  1.33120203e+01],\n",
              "       [ 6.75168324e+00,  6.96803856e+00],\n",
              "       [ 3.71073461e+00,  1.08496847e+01],\n",
              "       [ 4.88088751e+00,  1.32025080e+01],\n",
              "       [ 6.61610079e+00,  6.89619589e+00],\n",
              "       [ 5.12337351e+00,  1.10405159e+01],\n",
              "       [ 4.84400892e+00,  1.23793955e+01],\n",
              "       [ 3.42432523e+00,  9.06618881e+00],\n",
              "       [ 4.99046516e+00,  1.33640814e+01],\n",
              "       [ 3.66472507e+00,  3.96252823e+00],\n",
              "       [ 5.05263233e+00,  1.34244146e+01],\n",
              "       [ 5.04220343e+00,  1.28231916e+01],\n",
              "       [ 3.63199401e+00,  3.78389597e+00],\n",
              "       [ 6.69505739e+00,  7.03021526e+00],\n",
              "       [ 3.53808284e-01,  4.32602596e+00],\n",
              "       [ 6.60512000e-02,  3.84002662e+00],\n",
              "       [ 4.54585505e+00,  1.20087910e+01],\n",
              "       [ 3.47912860e+00,  9.43152428e+00],\n",
              "       [ 5.70785332e+00,  1.29455547e+01],\n",
              "       [ 5.33738661e+00,  1.32018509e+01],\n",
              "       [ 5.15724754e+00,  1.35300703e+01],\n",
              "       [ 6.86553383e+00,  7.05007601e+00],\n",
              "       [ 6.40938938e-01,  4.97823191e+00],\n",
              "       [ 4.36575222e+00,  1.15410299e+01],\n",
              "       [ 4.75750208e+00,  1.22842398e+01],\n",
              "       [ 4.36505079e+00,  4.76061916e+00],\n",
              "       [ 5.01981163e+00,  1.30285664e+01],\n",
              "       [ 5.30661583e+00,  1.37661343e+01],\n",
              "       [ 5.30996704e+00,  1.36942806e+01],\n",
              "       [-8.55114311e-02,  3.29658079e+00],\n",
              "       [-1.72504500e-01,  3.38624668e+00],\n",
              "       [ 3.97238660e+00,  1.12472115e+01],\n",
              "       [ 4.26720905e+00,  1.04412766e+01],\n",
              "       [ 4.22010851e+00,  1.10451012e+01],\n",
              "       [ 4.21845579e+00,  1.05631161e+01],\n",
              "       [ 4.72382545e+00,  9.62365818e+00],\n",
              "       [ 4.81964111e+00,  7.62629461e+00],\n",
              "       [ 1.44902337e+00,  6.04795980e+00],\n",
              "       [ 1.51077306e+00,  5.91337299e+00],\n",
              "       [ 4.26197195e+00,  8.77651310e+00],\n",
              "       [ 4.57779884e+00,  8.04238796e+00],\n",
              "       [ 4.82220221e+00,  7.73479080e+00],\n",
              "       [ 4.17327929e+00,  1.04515381e+01],\n",
              "       [ 4.36930132e+00,  1.18014297e+01],\n",
              "       [ 3.86022329e+00,  9.74129486e+00],\n",
              "       [ 3.53934693e+00,  9.12892151e+00],\n",
              "       [ 4.93114376e+00,  7.73670244e+00],\n",
              "       [ 4.58181906e+00,  8.63316727e+00],\n",
              "       [ 5.63338614e+00,  7.29308605e+00],\n",
              "       [ 4.35886812e+00,  8.83019161e+00],\n",
              "       [ 4.82215214e+00,  6.66594505e+00],\n",
              "       [ 4.97755003e+00,  6.15676641e+00],\n",
              "       [ 4.88730240e+00,  5.66467714e+00],\n",
              "       [ 4.44240856e+00,  4.59164095e+00],\n",
              "       [ 4.01754332e+00,  4.37989902e+00],\n",
              "       [ 5.26338196e+00,  7.29788351e+00],\n",
              "       [ 5.22720432e+00,  1.12975378e+01],\n",
              "       [ 4.88455820e+00,  5.88073874e+00],\n",
              "       [ 4.43703318e+00,  1.19098291e+01],\n",
              "       [ 4.08159685e+00,  9.78742123e+00],\n",
              "       [ 1.03204918e+00,  5.54196548e+00],\n",
              "       [ 4.44014978e+00,  8.11930466e+00],\n",
              "       [ 3.69302845e+00,  9.00536251e+00],\n",
              "       [ 4.16012001e+00,  1.15109634e+01],\n",
              "       [ 3.98409677e+00,  1.12050800e+01],\n",
              "       [ 1.16527820e+00,  5.76703453e+00],\n",
              "       [ 4.54745102e+00,  9.81629658e+00],\n",
              "       [ 3.87966490e+00,  4.28344679e+00],\n",
              "       [ 1.68720341e+00,  6.01934624e+00],\n",
              "       [ 5.00056648e+00,  5.91020060e+00],\n",
              "       [ 4.18810844e+00,  4.48588276e+00],\n",
              "       [ 3.52818727e+00,  3.83487964e+00],\n",
              "       [ 4.08268833e+00,  8.42554283e+00],\n",
              "       [ 6.49822378e+00,  6.85450649e+00],\n",
              "       [ 4.28753525e-01,  4.54100323e+00],\n",
              "       [ 5.64046717e+00,  1.30031595e+01],\n",
              "       [ 9.66750383e-01,  4.83175659e+00],\n",
              "       [ 3.85235238e+00,  3.97360539e+00],\n",
              "       [ 3.70098114e+00,  4.04941893e+00],\n",
              "       [ 4.01249647e+00,  4.34957504e+00],\n",
              "       [ 4.46585369e+00,  1.10482683e+01],\n",
              "       [ 4.55748367e+00,  9.46200562e+00],\n",
              "       [ 4.52273893e+00,  9.22288132e+00],\n",
              "       [ 3.33585501e+00,  4.15077639e+00],\n",
              "       [ 6.87865198e-01,  4.31085014e+00],\n",
              "       [ 4.44589520e+00,  9.31754112e+00],\n",
              "       [ 4.66813517e+00,  9.52748871e+00],\n",
              "       [ 4.11476898e+00,  9.41503906e+00],\n",
              "       [ 4.25049639e+00,  1.09150419e+01],\n",
              "       [ 4.39923620e+00,  4.86196041e+00],\n",
              "       [ 4.91042662e+00,  5.91937828e+00],\n",
              "       [ 5.11108685e+00,  6.17474461e+00],\n",
              "       [ 4.42259741e+00,  5.35945129e+00],\n",
              "       [ 4.18586779e+00,  4.71157408e+00],\n",
              "       [ 5.13598919e+00,  6.70401239e+00],\n",
              "       [ 4.57099485e+00,  5.50598574e+00],\n",
              "       [ 3.82096219e+00,  1.09551201e+01],\n",
              "       [ 3.66234422e+00,  1.05050669e+01],\n",
              "       [ 3.53901178e-01,  4.52243900e+00],\n",
              "       [ 3.68802524e+00,  9.05605793e+00],\n",
              "       [ 4.66143894e+00,  5.14709425e+00],\n",
              "       [ 4.67559624e+00,  7.87943125e+00]], dtype=float32)"
            ]
          },
          "metadata": {},
          "execution_count": 8
        }
      ]
    },
    {
      "cell_type": "code",
      "source": [
        "#что-то...\n",
        "plt.scatter(\n",
        "    embedding[:, 0],\n",
        "    embedding[:, 0])\n",
        "plt.gca().set_aspect('equal', 'datalim')\n",
        "plt.title('Кластеризация оленей', fontsize=24);"
      ],
      "metadata": {
        "colab": {
          "base_uri": "https://localhost:8080/",
          "height": 290
        },
        "id": "yKKd_hsOncR4",
        "outputId": "cc889bee-59b4-462a-8170-8f2cbbeab617"
      },
      "execution_count": 10,
      "outputs": [
        {
          "output_type": "display_data",
          "data": {
            "text/plain": [
              "<Figure size 432x288 with 1 Axes>"
            ],
            "image/png": "[encoded data removed]"
          },
          "metadata": {
            "needs_background": "light"
          }
        }
      ]
    },
    {
      "cell_type": "code",
      "source": [
        "#метрика другая должна быть\n",
        "mapper = umap.UMAP(metric='hellinger', random_state=10)\n",
        "embedding = mapper.fit_transform(deer)\n",
        "#display(test_embedding.shape)\n",
        "plt.scatter(embedding[:, 0], embedding[:, 1], s=1, cmap='Spectral')"
      ],
      "metadata": {
        "colab": {
          "base_uri": "https://localhost:8080/",
          "height": 375
        },
        "id": "0shh2Ltnu6C4",
        "outputId": "a3f9d8ac-cdf1-4734-e01d-180adaca6359"
      },
      "execution_count": 21,
      "outputs": [
        {
          "output_type": "error",
          "ename": "ValueError",
          "evalue": "ignored",
          "traceback": [
            "\u001b[0;31m---------------------------------------------------------------------------\u001b[0m",
            "\u001b[0;31mValueError\u001b[0m                                Traceback (most recent call last)",
            "\u001b[0;32m<ipython-input-21-4fa51457fbaa>\u001b[0m in \u001b[0;36m<module>\u001b[0;34m\u001b[0m\n\u001b[1;32m      1\u001b[0m \u001b[0mmapper\u001b[0m \u001b[0;34m=\u001b[0m \u001b[0mumap\u001b[0m\u001b[0;34m.\u001b[0m\u001b[0mUMAP\u001b[0m\u001b[0;34m(\u001b[0m\u001b[0mmetric\u001b[0m\u001b[0;34m=\u001b[0m\u001b[0;34m'hellinger'\u001b[0m\u001b[0;34m,\u001b[0m \u001b[0mrandom_state\u001b[0m\u001b[0;34m=\u001b[0m\u001b[0;36m10\u001b[0m\u001b[0;34m)\u001b[0m\u001b[0;34m\u001b[0m\u001b[0;34m\u001b[0m\u001b[0m\n\u001b[0;32m----> 2\u001b[0;31m \u001b[0membedding\u001b[0m \u001b[0;34m=\u001b[0m \u001b[0mmapper\u001b[0m\u001b[0;34m.\u001b[0m\u001b[0mfit_transform\u001b[0m\u001b[0;34m(\u001b[0m\u001b[0mdeer\u001b[0m\u001b[0;34m)\u001b[0m\u001b[0;34m\u001b[0m\u001b[0;34m\u001b[0m\u001b[0m\n\u001b[0m\u001b[1;32m      3\u001b[0m \u001b[0;31m#display(test_embedding.shape)\u001b[0m\u001b[0;34m\u001b[0m\u001b[0;34m\u001b[0m\u001b[0;34m\u001b[0m\u001b[0m\n\u001b[1;32m      4\u001b[0m \u001b[0mplt\u001b[0m\u001b[0;34m.\u001b[0m\u001b[0mscatter\u001b[0m\u001b[0;34m(\u001b[0m\u001b[0membedding\u001b[0m\u001b[0;34m[\u001b[0m\u001b[0;34m:\u001b[0m\u001b[0;34m,\u001b[0m \u001b[0;36m0\u001b[0m\u001b[0;34m]\u001b[0m\u001b[0;34m,\u001b[0m \u001b[0membedding\u001b[0m\u001b[0;34m[\u001b[0m\u001b[0;34m:\u001b[0m\u001b[0;34m,\u001b[0m \u001b[0;36m1\u001b[0m\u001b[0;34m]\u001b[0m\u001b[0;34m,\u001b[0m \u001b[0ms\u001b[0m\u001b[0;34m=\u001b[0m\u001b[0;36m1\u001b[0m\u001b[0;34m,\u001b[0m \u001b[0mcmap\u001b[0m\u001b[0;34m=\u001b[0m\u001b[0;34m'Spectral'\u001b[0m\u001b[0;34m)\u001b[0m\u001b[0;34m\u001b[0m\u001b[0;34m\u001b[0m\u001b[0m\n",
            "\u001b[0;32m/usr/local/lib/python3.8/dist-packages/umap/umap_.py\u001b[0m in \u001b[0;36mfit_transform\u001b[0;34m(self, X, y)\u001b[0m\n\u001b[1;32m   2770\u001b[0m             \u001b[0mLocal\u001b[0m \u001b[0mradii\u001b[0m \u001b[0mof\u001b[0m \u001b[0mdata\u001b[0m \u001b[0mpoints\u001b[0m \u001b[0;32min\u001b[0m \u001b[0mthe\u001b[0m \u001b[0membedding\u001b[0m \u001b[0;34m(\u001b[0m\u001b[0mlog\u001b[0m\u001b[0;34m-\u001b[0m\u001b[0mtransformed\u001b[0m\u001b[0;34m)\u001b[0m\u001b[0;34m.\u001b[0m\u001b[0;34m\u001b[0m\u001b[0;34m\u001b[0m\u001b[0m\n\u001b[1;32m   2771\u001b[0m         \"\"\"\n\u001b[0;32m-> 2772\u001b[0;31m         \u001b[0mself\u001b[0m\u001b[0;34m.\u001b[0m\u001b[0mfit\u001b[0m\u001b[0;34m(\u001b[0m\u001b[0mX\u001b[0m\u001b[0;34m,\u001b[0m \u001b[0my\u001b[0m\u001b[0;34m)\u001b[0m\u001b[0;34m\u001b[0m\u001b[0;34m\u001b[0m\u001b[0m\n\u001b[0m\u001b[1;32m   2773\u001b[0m         \u001b[0;32mif\u001b[0m \u001b[0mself\u001b[0m\u001b[0;34m.\u001b[0m\u001b[0mtransform_mode\u001b[0m \u001b[0;34m==\u001b[0m \u001b[0;34m\"embedding\"\u001b[0m\u001b[0;34m:\u001b[0m\u001b[0;34m\u001b[0m\u001b[0;34m\u001b[0m\u001b[0m\n\u001b[1;32m   2774\u001b[0m             \u001b[0;32mif\u001b[0m \u001b[0mself\u001b[0m\u001b[0;34m.\u001b[0m\u001b[0moutput_dens\u001b[0m\u001b[0;34m:\u001b[0m\u001b[0;34m\u001b[0m\u001b[0;34m\u001b[0m\u001b[0m\n",
            "\u001b[0;32m/usr/local/lib/python3.8/dist-packages/umap/umap_.py\u001b[0m in \u001b[0;36mfit\u001b[0;34m(self, X, y)\u001b[0m\n\u001b[1;32m   2288\u001b[0m         \u001b[0mself\u001b[0m\u001b[0;34m.\u001b[0m\u001b[0mknn_search_index\u001b[0m \u001b[0;34m=\u001b[0m \u001b[0mself\u001b[0m\u001b[0;34m.\u001b[0m\u001b[0mprecomputed_knn\u001b[0m\u001b[0;34m[\u001b[0m\u001b[0;36m2\u001b[0m\u001b[0;34m]\u001b[0m\u001b[0;34m\u001b[0m\u001b[0;34m\u001b[0m\u001b[0m\n\u001b[1;32m   2289\u001b[0m \u001b[0;34m\u001b[0m\u001b[0m\n\u001b[0;32m-> 2290\u001b[0;31m         \u001b[0mself\u001b[0m\u001b[0;34m.\u001b[0m\u001b[0m_validate_parameters\u001b[0m\u001b[0;34m(\u001b[0m\u001b[0;34m)\u001b[0m\u001b[0;34m\u001b[0m\u001b[0;34m\u001b[0m\u001b[0m\n\u001b[0m\u001b[1;32m   2291\u001b[0m \u001b[0;34m\u001b[0m\u001b[0m\n\u001b[1;32m   2292\u001b[0m         \u001b[0;32mif\u001b[0m \u001b[0mself\u001b[0m\u001b[0;34m.\u001b[0m\u001b[0mverbose\u001b[0m\u001b[0;34m:\u001b[0m\u001b[0;34m\u001b[0m\u001b[0;34m\u001b[0m\u001b[0m\n",
            "\u001b[0;32m/usr/local/lib/python3.8/dist-packages/umap/umap_.py\u001b[0m in \u001b[0;36m_validate_parameters\u001b[0;34m(self)\u001b[0m\n\u001b[1;32m   1782\u001b[0m             \u001b[0mself\u001b[0m\u001b[0;34m.\u001b[0m\u001b[0m_inverse_distance_func\u001b[0m \u001b[0;34m=\u001b[0m \u001b[0;32mNone\u001b[0m\u001b[0;34m\u001b[0m\u001b[0;34m\u001b[0m\u001b[0m\n\u001b[1;32m   1783\u001b[0m         \u001b[0;32melif\u001b[0m \u001b[0mself\u001b[0m\u001b[0;34m.\u001b[0m\u001b[0mmetric\u001b[0m \u001b[0;34m==\u001b[0m \u001b[0;34m\"hellinger\"\u001b[0m \u001b[0;32mand\u001b[0m \u001b[0mself\u001b[0m\u001b[0;34m.\u001b[0m\u001b[0m_raw_data\u001b[0m\u001b[0;34m.\u001b[0m\u001b[0mmin\u001b[0m\u001b[0;34m(\u001b[0m\u001b[0;34m)\u001b[0m \u001b[0;34m<\u001b[0m \u001b[0;36m0\u001b[0m\u001b[0;34m:\u001b[0m\u001b[0;34m\u001b[0m\u001b[0;34m\u001b[0m\u001b[0m\n\u001b[0;32m-> 1784\u001b[0;31m             \u001b[0;32mraise\u001b[0m \u001b[0mValueError\u001b[0m\u001b[0;34m(\u001b[0m\u001b[0;34m\"Metric 'hellinger' does not support negative values\"\u001b[0m\u001b[0;34m)\u001b[0m\u001b[0;34m\u001b[0m\u001b[0;34m\u001b[0m\u001b[0m\n\u001b[0m\u001b[1;32m   1785\u001b[0m         \u001b[0;32melif\u001b[0m \u001b[0mself\u001b[0m\u001b[0;34m.\u001b[0m\u001b[0mmetric\u001b[0m \u001b[0;32min\u001b[0m \u001b[0mdist\u001b[0m\u001b[0;34m.\u001b[0m\u001b[0mnamed_distances\u001b[0m\u001b[0;34m:\u001b[0m\u001b[0;34m\u001b[0m\u001b[0;34m\u001b[0m\u001b[0m\n\u001b[1;32m   1786\u001b[0m             \u001b[0;32mif\u001b[0m \u001b[0mself\u001b[0m\u001b[0;34m.\u001b[0m\u001b[0m_sparse_data\u001b[0m\u001b[0;34m:\u001b[0m\u001b[0;34m\u001b[0m\u001b[0;34m\u001b[0m\u001b[0m\n",
            "\u001b[0;31mValueError\u001b[0m: Metric 'hellinger' does not support negative values"
          ]
        }
      ]
    },
    {
      "cell_type": "code",
      "source": [
        "pip install hdbscan"
      ],
      "metadata": {
        "colab": {
          "base_uri": "https://localhost:8080/"
        },
        "id": "gGqHEdJP-y1Z",
        "outputId": "8b405285-1c62-43f3-dc6f-9b56b29134d8"
      },
      "execution_count": 11,
      "outputs": [
        {
          "output_type": "stream",
          "name": "stdout",
          "text": [
            "Looking in indexes: https://pypi.org/simple, https://us-python.pkg.dev/colab-wheels/public/simple/\n",
            "Collecting hdbscan\n",
            "  Downloading hdbscan-0.8.29.tar.gz (5.2 MB)\n",
            "\u001b[2K     \u001b[90m━━━━━━━━━━━━━━━━━━━━━━━━━━━━━━━━━━━━━━━━\u001b[0m \u001b[32m5.2/5.2 MB\u001b[0m \u001b[31m40.4 MB/s\u001b[0m eta \u001b[36m0:00:00\u001b[0m\n",
            "\u001b[?25h  Installing build dependencies ... \u001b[?25l\u001b[?25hdone\n",
            "  Getting requirements to build wheel ... \u001b[?25l\u001b[?25hdone\n",
            "  Preparing metadata (pyproject.toml) ... \u001b[?25l\u001b[?25hdone\n",
            "Requirement already satisfied: scikit-learn>=0.20 in /usr/local/lib/python3.8/dist-packages (from hdbscan) (1.2.1)\n",
            "Requirement already satisfied: cython>=0.27 in /usr/local/lib/python3.8/dist-packages (from hdbscan) (0.29.33)\n",
            "Requirement already satisfied: scipy>=1.0 in /usr/local/lib/python3.8/dist-packages (from hdbscan) (1.10.1)\n",
            "Requirement already satisfied: numpy>=1.20 in /usr/local/lib/python3.8/dist-packages (from hdbscan) (1.22.4)\n",
            "Requirement already satisfied: joblib>=1.0 in /usr/local/lib/python3.8/dist-packages (from hdbscan) (1.2.0)\n",
            "Requirement already satisfied: threadpoolctl>=2.0.0 in /usr/local/lib/python3.8/dist-packages (from scikit-learn>=0.20->hdbscan) (3.1.0)\n",
            "Building wheels for collected packages: hdbscan\n",
            "  Building wheel for hdbscan (pyproject.toml) ... \u001b[?25l\u001b[?25hdone\n",
            "  Created wheel for hdbscan: filename=hdbscan-0.8.29-cp38-cp38-linux_x86_64.whl size=3774018 sha256=81f2a21f5b257d103100c0f42f56586b0ae46244d8e421be083a0dd4bd7d8d86\n",
            "  Stored in directory: /root/.cache/pip/wheels/76/06/48/527e038689c581cc9e519c73840efdc7473805149e55bd7ffd\n",
            "Successfully built hdbscan\n",
            "Installing collected packages: hdbscan\n",
            "Successfully installed hdbscan-0.8.29\n"
          ]
        }
      ]
    },
    {
      "cell_type": "code",
      "source": [
        "from sklearn.datasets import fetch_openml\n",
        "from sklearn.decomposition import PCA\n",
        "import numpy as np\n",
        "import matplotlib.pyplot as plt\n",
        "%matplotlib inline\n",
        "\n",
        "# Dimension reduction and clustering libraries\n",
        "import umap\n",
        "import hdbscan\n",
        "import sklearn.cluster as cluster\n",
        "from sklearn.metrics import adjusted_rand_score, adjusted_mutual_info_score"
      ],
      "metadata": {
        "id": "IZr7dzGx-wD6"
      },
      "execution_count": 12,
      "outputs": []
    },
    {
      "cell_type": "code",
      "source": [
        "#target = scaled_deer_data.astype(int)"
      ],
      "metadata": {
        "id": "3dCt5bIJCc3B"
      },
      "execution_count": null,
      "outputs": []
    },
    {
      "cell_type": "code",
      "source": [
        "standard_embedding = umap.UMAP(random_state=42).fit_transform(scaled_deer_data)\n",
        "plt.scatter(standard_embedding[:, 0], standard_embedding[:, 1], s=2, cmap='Spectral');"
      ],
      "metadata": {
        "colab": {
          "base_uri": "https://localhost:8080/",
          "height": 265
        },
        "id": "KRl_z6bc-mNg",
        "outputId": "04a986ad-74c2-49c9-80a9-cb94f97b5a59"
      },
      "execution_count": 13,
      "outputs": [
        {
          "output_type": "display_data",
          "data": {
            "text/plain": [
              "<Figure size 432x288 with 1 Axes>"
            ],
            "image/png": "[encoded data removed]"
          },
          "metadata": {
            "needs_background": "light"
          }
        }
      ]
    },
    {
      "cell_type": "code",
      "source": [
        "plt.savefig('кластеризация')"
      ],
      "metadata": {
        "colab": {
          "base_uri": "https://localhost:8080/",
          "height": 35
        },
        "id": "VMdUYX_PHJ3Y",
        "outputId": "31ca5967-88b3-44cf-8cf7-b996e70dd8d8"
      },
      "execution_count": 17,
      "outputs": [
        {
          "output_type": "display_data",
          "data": {
            "text/plain": [
              "<Figure size 432x288 with 0 Axes>"
            ]
          },
          "metadata": {}
        }
      ]
    }
  ]
}